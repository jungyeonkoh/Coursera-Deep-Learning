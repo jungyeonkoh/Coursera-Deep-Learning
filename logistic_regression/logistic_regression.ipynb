{
 "cells": [
  {
   "cell_type": "code",
   "execution_count": 1,
   "metadata": {},
   "outputs": [],
   "source": [
    "import numpy as np\n",
    "import matplotlib.pyplot as plt\n",
    "import h5py\n",
    "\n",
    "%matplotlib inline"
   ]
  },
  {
   "cell_type": "code",
   "execution_count": 2,
   "metadata": {},
   "outputs": [],
   "source": [
    "def load_dataset():\n",
    "    train_dataset = h5py.File('/Users/jungyeonkoh/Desktop/catvnocat/train_catvnoncat.h5', \"r\")\n",
    "    train_x_orig = np.array(train_dataset[\"train_set_x\"][:]) # feature\n",
    "    train_y_orig = np.array(train_dataset[\"train_set_y\"][:]) # label\n",
    "    train_y_orig = train_y_orig.reshape((1, train_y_orig.shape[0]))\n",
    "    \n",
    "    test_dataset = h5py.File('/Users/jungyeonkoh/Desktop/catvnocat/test_catvnoncat.h5', \"r\")\n",
    "    test_x_orig = np.array(test_dataset[\"test_set_x\"][:]) # feature\n",
    "    test_y_orig = np.array(test_dataset[\"test_set_y\"][:]) # label\n",
    "    test_y_orig = test_y_orig.reshape((1, test_y_orig.shape[0]))\n",
    "    \n",
    "    classes = np.array(test_dataset[\"list_classes\"][:])\n",
    "    \n",
    "    return train_x_orig, train_y_orig, test_x_orig, test_y_orig, classes\n",
    "\n",
    "# load dataset\n",
    "train_x_orig, train_y, test_x_orig, test_y, classes = load_dataset()"
   ]
  },
  {
   "cell_type": "code",
   "execution_count": 14,
   "metadata": {},
   "outputs": [
    {
     "name": "stdout",
     "output_type": "stream",
     "text": [
      "y= [1], it is a cat'picture.\n"
     ]
    },
    {
     "data": {
      "image/png": "[encoded data removed]",
      "text/plain": [
       "<Figure size 432x288 with 1 Axes>"
      ]
     },
     "metadata": {
      "needs_background": "light"
     },
     "output_type": "display_data"
    }
   ],
   "source": [
    "# example\n",
    "index = 2\n",
    "plt.imshow(train_x_orig[index])\n",
    "print(\"y= \"+str(train_y[:, index]) + \", it is a \" + \n",
    "      classes[np.squeeze(train_y[:,index])].decode(\"utf-8\") + \"'picture.\")"
   ]
  },
  {
   "cell_type": "code",
   "execution_count": 18,
   "metadata": {},
   "outputs": [
    {
     "name": "stdout",
     "output_type": "stream",
     "text": [
      "Number of training examples: 209\n",
      "Number of testing examples: 50\n",
      "Height/Width of each image: 64\n",
      "\n",
      "train_x shape: (209, 64, 64, 3)\n",
      "train_y shape: (1, 209)\n",
      "test_x shape: (50, 64, 64, 3)\n",
      "test_y shape: (1, 50)\n"
     ]
    }
   ],
   "source": [
    "# dataset info\n",
    "m_train = train_x_orig.shape[0]\n",
    "m_test = test_x_orig.shape[0]\n",
    "num_px = train_x_orig.shape[1]\n",
    "\n",
    "print(\"Number of training examples: \"+str(m_train))\n",
    "print(\"Number of testing examples: \"+str(m_test))\n",
    "print(\"Height/Width of each image: \"+str(num_px))\n",
    "print()\n",
    "print(\"train_x shape: \"+ str(train_x_orig.shape))\n",
    "print(\"train_y shape: \" + str(train_y.shape))\n",
    "print(\"test_x shape: \"+ str(test_x_orig.shape))\n",
    "print(\"test_y shape: \" + str(test_y.shape))"
   ]
  },
  {
   "cell_type": "code",
   "execution_count": 23,
   "metadata": {},
   "outputs": [
    {
     "name": "stdout",
     "output_type": "stream",
     "text": [
      "train_x_flatten shape: (12288, 209)\n",
      "train_y shape: (1, 209)\n",
      "test_x_flatten shape: (12288, 50)\n",
      "test_y shape: (1, 50)\n"
     ]
    }
   ],
   "source": [
    "# data preprocess\n",
    "# flattening\n",
    "train_x_flatten = train_x_orig.reshape(train_x_orig.shape[0], -1).T\n",
    "test_x_flatten = test_x_orig.reshape(test_x_orig.shape[0], -1).T\n",
    "\n",
    "print(\"train_x_flatten shape: \" + str(train_x_flatten.shape))\n",
    "print(\"train_y shape: \" + str(train_y.shape))\n",
    "print(\"test_x_flatten shape: \"+ str(test_x_flatten.shape))\n",
    "print(\"test_y shape: \" + str(test_y.shape))\n",
    "\n",
    "# normalizing (consider RGB values)\n",
    "train_x = train_x_flatten/255.\n",
    "test_x = test_x_flatten/255."
   ]
  },
  {
   "cell_type": "markdown",
   "metadata": {},
   "source": [
    "## Building Training Network"
   ]
  },
  {
   "cell_type": "code",
   "execution_count": 25,
   "metadata": {},
   "outputs": [
    {
     "name": "stdout",
     "output_type": "stream",
     "text": [
      "sigmoid([0,2]) = [0.5        0.88079708]\n"
     ]
    }
   ],
   "source": [
    "# helper function: sigmoid\n",
    "def sigmoid(x):\n",
    "    y = 1 / (1+np.exp(-x))\n",
    "    return y\n",
    "\n",
    "print(\"sigmoid([0,2]) = \" + str(sigmoid(np.array([0,2]))))"
   ]
  },
  {
   "cell_type": "code",
   "execution_count": 26,
   "metadata": {},
   "outputs": [
    {
     "name": "stdout",
     "output_type": "stream",
     "text": [
      "w = [[0.]\n",
      " [0.]]\n",
      "w = 0\n"
     ]
    }
   ],
   "source": [
    "# initialize parameters into zero (from now)\n",
    "def initialize_with_zeros(dim):\n",
    "    w = np.zeros(shape=(dim,1))\n",
    "    b = 0\n",
    "    \n",
    "    assert(w.shape == (dim,1))\n",
    "    assert(isinstance(b,float) or isinstance(b, int))\n",
    "    \n",
    "    return w,b\n",
    "\n",
    "dim = 2\n",
    "w,b = initialize_with_zeros(dim)\n",
    "print(\"w = \" + str(w))\n",
    "print(\"w = \" + str(b))"
   ]
  },
  {
   "cell_type": "code",
   "execution_count": 27,
   "metadata": {},
   "outputs": [],
   "source": [
    "# forward and backward propagation\n",
    "def propagate(w,b,X,Y):\n",
    "    m = X.shape[1]\n",
    "    \n",
    "    # forward \n",
    "    A = sigmoid(np.dot(w.T, X)+b)\n",
    "    cost = -1 / m * np.sum(Y * np.log(A) + (1-Y) * np.log(1-A))\n",
    "    \n",
    "    # backward\n",
    "    dw = 1 / m * np.dot(X, (A-Y).T)\n",
    "    db = 1 / m * np.sum(A-Y)\n",
    "    \n",
    "    assert(dw.shape == w.shape)\n",
    "    assert(db.dtype == float)\n",
    "    \n",
    "    cost = np.squeeze(cost)\n",
    "    assert(cost.shape == ())\n",
    "    \n",
    "    grads = {\"dw\":dw,\"db\":db}\n",
    "    return grads, cost"
   ]
  },
  {
   "cell_type": "code",
   "execution_count": 30,
   "metadata": {},
   "outputs": [
    {
     "name": "stdout",
     "output_type": "stream",
     "text": [
      "dw = [[0.99845601]\n",
      " [2.39507239]]\n",
      "db = 0.001455578136784208\n",
      "cost = 5.801545319394553\n"
     ]
    }
   ],
   "source": [
    "# sample case\n",
    "w, b, X, Y = np.array([[1.],[2.]]), 2., np.array([[1.,2.,-1.],[3.,4.,-3.2]]), np.array([[1,0,1]])\n",
    "grads, cost = propagate(w,b,X,Y)\n",
    "\n",
    "print(\"dw = \"+ str(grads[\"dw\"]))\n",
    "print(\"db = \"+ str(grads[\"db\"]))\n",
    "print(\"cost = \" + str(cost))"
   ]
  },
  {
   "cell_type": "code",
   "execution_count": 34,
   "metadata": {},
   "outputs": [],
   "source": [
    "# optimization\n",
    "def optimize(w,b,X,Y, num_iteration, learning_rate, print_cost = False):\n",
    "    costs = []\n",
    "    \n",
    "    for i in range(num_iteration):\n",
    "        \n",
    "        # propagation\n",
    "        grads, cost = propagate(w,b,X,Y)\n",
    "        dw = grads[\"dw\"]\n",
    "        db = grads[\"db\"]\n",
    "        \n",
    "        # update parameters\n",
    "        w -= learning_rate * dw\n",
    "        b -= learning_rate * db\n",
    "        \n",
    "        # print cost\n",
    "        if i % 100 == 0:\n",
    "            costs.append(cost)\n",
    "        if print_cost and i % 100 == 0:\n",
    "            print(\"Cost after iteration %i: %f\"%(i, cost))\n",
    "    \n",
    "    params = {\"w\":w, \"b\":b}\n",
    "    grads = {\"dw\":dw, \"db\":db}\n",
    "    \n",
    "    return params, grads, costs"
   ]
  },
  {
   "cell_type": "code",
   "execution_count": 35,
   "metadata": {},
   "outputs": [
    {
     "name": "stdout",
     "output_type": "stream",
     "text": [
      "w = [[0.19033591]\n",
      " [0.12259159]]\n",
      "b = 1.9253598300845747\n",
      "dw = [[0.67752042]\n",
      " [1.41625495]]\n",
      "db = 0.21919450454067652\n"
     ]
    }
   ],
   "source": [
    "# sample case\n",
    "params, grads, costs = optimize(w,b,X,Y, num_iteration=100, learning_rate=0.009)\n",
    "\n",
    "print(\"w = \"+str(params[\"w\"]))\n",
    "print(\"b = \"+str(params[\"b\"]))\n",
    "print(\"dw = \"+str(grads[\"dw\"]))\n",
    "print(\"db = \"+str(grads[\"db\"]))"
   ]
  },
  {
   "cell_type": "code",
   "execution_count": 36,
   "metadata": {},
   "outputs": [],
   "source": [
    "# prediction\n",
    "def predict(w,b,X):\n",
    "    m = X.shape[1]\n",
    "    Y_prediction = np.zeros((1,m))\n",
    "    w = w.reshape(X.shape[0],1)\n",
    "    \n",
    "    A = sigmoid(np.dot(w.T, X)+b)\n",
    "    \n",
    "    for i in range(A.shape[1]):\n",
    "        Y_prediction[:,i] = (A[:,i] > 0.5) * 1\n",
    "    \n",
    "    assert(Y_prediction.shape == (1,m))\n",
    "    return Y_prediction"
   ]
  },
  {
   "cell_type": "code",
   "execution_count": 37,
   "metadata": {},
   "outputs": [
    {
     "name": "stdout",
     "output_type": "stream",
     "text": [
      "predictions = [[1. 1. 0.]]\n"
     ]
    }
   ],
   "source": [
    "w = np.array([[0.1124579],[0.23106775]])\n",
    "b = -0.3\n",
    "X = np.array([[1.,-1.1,-3.2],[1.2,2.,0.1]])\n",
    "print (\"predictions = \" + str(predict(w, b, X)))"
   ]
  },
  {
   "cell_type": "markdown",
   "metadata": {},
   "source": [
    "## All-in-one"
   ]
  },
  {
   "cell_type": "code",
   "execution_count": 41,
   "metadata": {},
   "outputs": [],
   "source": [
    "def model(X_train, Y_train, X_test, Y_test, num_iteration=2000, learning_rate=0.5, print_cost=False):\n",
    "    w,b = initialize_with_zeros(X_train.shape[0])\n",
    "    parameters, grads, costs = optimize(w, b, X_train, Y_train, num_iteration, learning_rate, print_cost)\n",
    "    \n",
    "    w = parameters[\"w\"]\n",
    "    b = parameters[\"b\"]\n",
    "    \n",
    "    Y_prediction_train = predict(w,b,X_train)\n",
    "    Y_prediction_test = predict(w,b,X_test)\n",
    "    \n",
    "    print(\"train accuracy: {}%\".format(100 - np.mean(np.abs(Y_prediction_train - Y_train)) * 100))\n",
    "    print(\"test accuracy: {}%\".format(100 - np.mean(np.abs(Y_prediction_test - Y_test)) * 100))\n",
    "    \n",
    "    d = {\"costs\":costs, \"Y_prediction_test\":Y_prediction_test, \"Y_prediction_train\":Y_prediction_train,\n",
    "        \"w\":w, \"b\":b, \"learning_rate\":learning_rate, \"num_iterations\":num_iteration}\n",
    "    \n",
    "    return d\n",
    "    "
   ]
  },
  {
   "cell_type": "markdown",
   "metadata": {},
   "source": [
    "### learning_rate 조정해보기\n",
    "아래 예시의 경우, train accuracy보다 test accuracy가 현저히 낮으므로 overfit \\\n",
    ":collect more train dataset, dropout, regularization can be considered"
   ]
  },
  {
   "cell_type": "code",
   "execution_count": 52,
   "metadata": {},
   "outputs": [
    {
     "name": "stdout",
     "output_type": "stream",
     "text": [
      "Cost after iteration 0: 0.693147\n",
      "Cost after iteration 100: 0.504021\n",
      "Cost after iteration 200: 0.621675\n",
      "Cost after iteration 300: 0.538983\n",
      "Cost after iteration 400: 0.437884\n",
      "Cost after iteration 500: 0.332211\n",
      "Cost after iteration 600: 0.236201\n",
      "Cost after iteration 700: 0.183653\n",
      "Cost after iteration 800: 0.168485\n",
      "Cost after iteration 900: 0.156852\n",
      "Cost after iteration 1000: 0.146807\n",
      "Cost after iteration 1100: 0.137971\n",
      "Cost after iteration 1200: 0.130113\n",
      "Cost after iteration 1300: 0.123070\n",
      "Cost after iteration 1400: 0.116721\n",
      "Cost after iteration 1500: 0.110967\n",
      "Cost after iteration 1600: 0.105729\n",
      "Cost after iteration 1700: 0.100942\n",
      "Cost after iteration 1800: 0.096551\n",
      "Cost after iteration 1900: 0.092510\n",
      "train accuracy: 99.52153110047847%\n",
      "test accuracy: 68.0%\n"
     ]
    }
   ],
   "source": [
    "d = model(train_x, train_y, test_x, test_y, num_iteration=2000, \n",
    "         learning_rate=0.008, print_cost=True)"
   ]
  },
  {
   "cell_type": "code",
   "execution_count": 53,
   "metadata": {},
   "outputs": [
    {
     "data": {
      "image/png": "[encoded data removed]",
      "text/plain": [
       "<Figure size 432x288 with 1 Axes>"
      ]
     },
     "metadata": {
      "needs_background": "light"
     },
     "output_type": "display_data"
    }
   ],
   "source": [
    "# Learning curve in graph\n",
    "costs = np.squeeze(d['costs'])\n",
    "plt.plot(costs)\n",
    "plt.ylabel('cost')\n",
    "plt.xlabel('iterations (per hundreds)')\n",
    "plt.title(\"Learning rate = \" + str(d[\"learning_rate\"]))\n",
    "plt.show()"
   ]
  },
  {
   "cell_type": "code",
   "execution_count": 59,
   "metadata": {},
   "outputs": [
    {
     "name": "stdout",
     "output_type": "stream",
     "text": [
      "learning rate is 0.01\n",
      "train accuracy: 99.52153110047847%\n",
      "test accuracy: 68.0%\n",
      "\n",
      "learning rate is 0.001\n",
      "train accuracy: 88.99521531100478%\n",
      "test accuracy: 64.0%\n",
      "\n",
      "learning rate is 0.0001\n",
      "train accuracy: 68.42105263157895%\n",
      "test accuracy: 36.0%\n",
      "\n"
     ]
    },
    {
     "data": {
      "image/png": "[encoded data removed]",
      "text/plain": [
       "<Figure size 432x288 with 1 Axes>"
      ]
     },
     "metadata": {
      "needs_background": "light"
     },
     "output_type": "display_data"
    }
   ],
   "source": [
    "learning_rates = [0.01, 0.001, 0.0001]\n",
    "models = {}\n",
    "\n",
    "for i in learning_rates:\n",
    "    print(\"learning rate is \" + str(i))\n",
    "    models[str(i)] = model(train_x, train_y, test_x, test_y, num_iteration=1500,\n",
    "                          learning_rate=i, print_cost=False)\n",
    "    print()\n",
    "    \n",
    "for i in learning_rates:\n",
    "    plt.plot(np.squeeze(models[str(i)][\"costs\"]), label=str(models[str(i)][\"learning_rate\"]))\n",
    "\n",
    "plt.ylabel('cost')\n",
    "plt.xlabel('iterations (per hundreds)')\n",
    "legend = plt.legend(loc='upper center', shadow=True)\n",
    "frame = legend.get_frame()\n",
    "frame.set_facecolor('0.3')\n",
    "plt.show()"
   ]
  }
 ],
 "metadata": {
  "kernelspec": {
   "display_name": "Python 3",
   "language": "python",
   "name": "python3"
  },
  "language_info": {
   "codemirror_mode": {
    "name": "ipython",
    "version": 3
   },
   "file_extension": ".py",
   "mimetype": "text/x-python",
   "name": "python",
   "nbconvert_exporter": "python",
   "pygments_lexer": "ipython3",
   "version": "3.7.6"
  }
 },
 "nbformat": 4,
 "nbformat_minor": 4
}
